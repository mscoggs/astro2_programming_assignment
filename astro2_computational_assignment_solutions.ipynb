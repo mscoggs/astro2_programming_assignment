{
 "cells": [
  {
   "cell_type": "markdown",
   "id": "657be308",
   "metadata": {},
   "source": [
    "# 1. Getting Familiar with notebook cells"
   ]
  },
  {
   "cell_type": "markdown",
   "id": "543a6efc",
   "metadata": {},
   "source": [
    "You can add cells by clicking the + sign at the top right. There are 4 different types of cells: Code, Markdown, Raw, and Heading. The above cell is a header cell, this is markdown."
   ]
  },
  {
   "cell_type": "code",
   "execution_count": 1,
   "id": "285aadd4",
   "metadata": {},
   "outputs": [
    {
     "name": "stdout",
     "output_type": "stream",
     "text": [
      "This is a code cell\n"
     ]
    }
   ],
   "source": [
    "print(\"This is a code cell\")"
   ]
  },
  {
   "cell_type": "markdown",
   "id": "23fbcc18",
   "metadata": {},
   "source": [
    "Create two new cells below. Make one a markdown where you fill in your name. Make the second cell a code cell and practice writing and executing something simple (print hello world?). Executing the cell with \"shift+enter\""
   ]
  },
  {
   "cell_type": "markdown",
   "id": "1c3bc1c5",
   "metadata": {},
   "source": [
    "Matthew Scoggins"
   ]
  },
  {
   "cell_type": "code",
   "execution_count": 1,
   "id": "cb943de0",
   "metadata": {},
   "outputs": [
    {
     "name": "stdout",
     "output_type": "stream",
     "text": [
      "hello world!\n"
     ]
    }
   ],
   "source": [
    "print(\"hello world!\")"
   ]
  },
  {
   "cell_type": "markdown",
   "id": "215a9757",
   "metadata": {},
   "source": [
    "# 2. Loading LVG Data"
   ]
  },
  {
   "cell_type": "markdown",
   "id": "e9aa5965",
   "metadata": {},
   "source": [
    "Local Volume Galaxies (LVG) data is available through https://www.sao.ru/lv/lvgdb/introduction.php.\n",
    " Click on \"tables\", then \"catalog of nearby galaxies\". \n",
    " If the downaload isn't starting, try allowing pop ups then download the table again.\n",
    " Save the table in the same place as this notebook."
   ]
  },
  {
   "cell_type": "markdown",
   "id": "6209fcac",
   "metadata": {},
   "source": [
    "Importing a package follows the form:\\\n",
    "import package\\\n",
    "if you'd like to rename the package, you can use:\\\n",
    "import package as new_name\\\n",
    "\\\n",
    "We'll be using numpy quite a bit. Import numpy below and rename it np"
   ]
  },
  {
   "cell_type": "code",
   "execution_count": 1,
   "id": "98eab57d",
   "metadata": {},
   "outputs": [],
   "source": [
    "import numpy as np"
   ]
  },
  {
   "cell_type": "markdown",
   "id": "13892b05",
   "metadata": {},
   "source": [
    "Loading in the data:"
   ]
  },
  {
   "cell_type": "code",
   "execution_count": 3,
   "id": "e49b0d8f",
   "metadata": {},
   "outputs": [
    {
     "name": "stdout",
     "output_type": "stream",
     "text": [
      "abc def ghi kalsjdsalkj      123 567    velocity_type\n",
      "    123 567    velocity_type\n",
      "['123', '567', 'velocity_type']\n",
      "123.0 567.0 velocity_type\n"
     ]
    }
   ],
   "source": [
    "#for completely filled datasets, there are much cleaner ways of doing this\n",
    "#our data has voids, so it's difficult to find something that neatly loads \n",
    "#in the data\n",
    "\n",
    "#to get around this, we'll read the file line by line as a string and convert\n",
    "# the parts of the string that we want into their proper data types and save \n",
    "# them in lists. \n",
    "\n",
    "#strings are handled as arrays in python. If we want to access the nth entry in \n",
    "#that string, we use s[n-1]. Every line of data has 118 characters, with the\n",
    "#data we're interested in starting at index 102.\n",
    "\n",
    "#Here is an example of extracting \"data\" from a string\n",
    "s=\"abc def ghi kalsjdsalkj      123 567    velocity_type\"\n",
    "#the \"data\" that we're interested in starts after the 25th index,\n",
    "#so grab everything from there onward\n",
    "#by using a semicolon after the index. Grabbing everything from the\n",
    "#nth index to the mth index (exclusive) using list[n:m]. Leaving m blank grabs\n",
    "#rest of the array\n",
    "s_last3 = s[25:]\n",
    "print(s)\n",
    "print(s_last3)\n",
    "#now split the data by whitespace, convert those to the datatypes we want,\n",
    "#and save them\n",
    "s_last3_split = s_last3.split()\n",
    "print(s_last3_split)\n",
    "vel = float(s_last3_split[0])\n",
    "dis = float(s_last3_split[1])\n",
    "method = str(s_last3_split[2])\n",
    "print(vel,dis,method)"
   ]
  },
  {
   "cell_type": "code",
   "execution_count": 149,
   "id": "4aa76f7a",
   "metadata": {},
   "outputs": [
    {
     "name": "stdout",
     "output_type": "stream",
     "text": [
      " 566 12.42 TRGB\n",
      "['566', '12.42', 'TRGB']\n",
      "566.0 12.42 TRGB\n"
     ]
    }
   ],
   "source": [
    "#this is an entry from our dataset. Grab the velocity, distance, and distance\n",
    "#method type following the method used above. These correspond to the last three entries\n",
    "#Print the values.\n",
    "s=\"AGC102728          000021.4+310119   0.20 0.58 0.17  20.40  20.2         17.7*   18.70  21 10    Ir L  566 12.42 TRGB\"\n",
    "\n",
    "s_last3 = s[102:]\n",
    "print(s_last3)\n",
    "s_last3_split = s_last3.split()\n",
    "print(s_last3_split)\n",
    "vel = float(s_last3_split[0])\n",
    "dis = float(s_last3_split[1])\n",
    "method = str(s_last3_split[2])\n",
    "print(vel,dis,method)"
   ]
  },
  {
   "cell_type": "code",
   "execution_count": 2,
   "id": "9bbe17d8",
   "metadata": {},
   "outputs": [],
   "source": [
    "#now, apply this to everyline in the file, skipping the header. \n",
    "#Add those values to an array\n",
    "#Not entry has a velocity measurement. If it doesn't, skip that too\n",
    "\n",
    "#open the file\n",
    "f = open('lvg_table1.dat', 'r')\n",
    "\n",
    "#iterate through the file lines with enumerate which is like a for loop\n",
    "#except it also gives you an index\n",
    "\n",
    "velocities, distances, distance_method = [],[],[]\n",
    "for i, line in enumerate(f):\n",
    "    if(i<111): continue #fill in ?? to skip the header\n",
    "    \n",
    "    s_last3 = line[102:]\n",
    "    s_last3_split = s_last3.split()\n",
    "    if(len(s_last3_split)<3):continue\n",
    "    vel = float(s_last3_split[0])\n",
    "    dis = float(s_last3_split[1])\n",
    "    method = str(s_last3_split[2])\n",
    "    velocities.append(vel)\n",
    "    distances.append(dis)\n",
    "    distance_method.append(method)"
   ]
  },
  {
   "cell_type": "code",
   "execution_count": 3,
   "id": "16a94ad7",
   "metadata": {},
   "outputs": [],
   "source": [
    "#Let's create a distance vs velocity plot. Import matplotlib and use the .plot() function. \n",
    "#Fill in the appropriate x and l label w/ units\n",
    "import matplotlib.pyplot as plt"
   ]
  },
  {
   "cell_type": "code",
   "execution_count": 4,
   "id": "d846483d",
   "metadata": {},
   "outputs": [
    {
     "data": {
      "text/plain": [
       "Text(0, 0.5, 'Velocity [Kms/s]')"
      ]
     },
     "execution_count": 4,
     "metadata": {},
     "output_type": "execute_result"
    },
    {
     "data": {
      "image/png": "[encoded data removed]",
      "text/plain": [
       "<Figure size 432x288 with 1 Axes>"
      ]
     },
     "metadata": {
      "needs_background": "light"
     },
     "output_type": "display_data"
    }
   ],
   "source": [
    "plt.scatter(distances, velocities, s=2)\n",
    "plt.xlabel(\"Distance [Mpc]\")\n",
    "plt.ylabel(\"Velocity [Km/s]\")"
   ]
  },
  {
   "cell_type": "markdown",
   "id": "ca5a6bea",
   "metadata": {},
   "source": [
    "# 3. Calculating H_0"
   ]
  },
  {
   "cell_type": "code",
   "execution_count": 24,
   "id": "5bfaa0e1",
   "metadata": {},
   "outputs": [
    {
     "name": "stdout",
     "output_type": "stream",
     "text": [
      "54.66531918891511\n"
     ]
    }
   ],
   "source": [
    "#Next, let's try to calculate H_0 by finding the best fit to the distance and radial velocity. \n",
    "#For this, we can use polyfit which you can read about here: https://numpy.org/doc/stable/reference/generated/numpy.polyfit.html\n",
    "\n",
    "# Using the polyfit documentation, find H_0. Don't specify values for the parameters which have defaults (rcond=None, full=False, w=None, cov=False)\n",
    "# So you should only fill in x,y, and deg. What value of degree should we choose assuming  radius velocitiy is proportional to distance?\n",
    "\n",
    "polynomial = np.polyfit(distances,velocities,1)\n",
    "\n",
    "\n",
    "#Now that you have a polynomial, how do you extract H_0?\n",
    "H_0 = polynomial[0]\n",
    "\n",
    "print(H_0)"
   ]
  },
  {
   "cell_type": "markdown",
   "id": "8f88dc4d",
   "metadata": {},
   "source": [
    "Question: How well does this agree with the actual value of H_0? Is there something about our data set that might throw this off?\n",
    "\n",
    "Answer: It doesn't fit perfectly. The peculiar velocities and errors in distance calculations will throw this value off\n"
   ]
  },
  {
   "cell_type": "code",
   "execution_count": 9,
   "id": "564c47f1",
   "metadata": {},
   "outputs": [
    {
     "name": "stdout",
     "output_type": "stream",
     "text": [
      "[3 4 5]\n"
     ]
    }
   ],
   "source": [
    "# The np.where() function is useful for returning indicies which meet a certain condition, but they can only be applied to numpy arrays.\n",
    "#Conversion from a python list to an numpy array follows:\n",
    "python_list = [1,2,3,4,5]\n",
    "numpy_array = np.array(python_list)\n",
    "\n",
    "#Filtering out the values which are less than 2.5, we can use np.where as:\n",
    "indices = np.where(numpy_array>2.5)\n",
    "\n",
    "#we then apply the indices to the numpy array to get our filtered array.\n",
    "filtered_numpy_array = numpy_array[indices]\n",
    "print(filtered_numpy_array)"
   ]
  },
  {
   "cell_type": "code",
   "execution_count": 7,
   "id": "63d8bb37",
   "metadata": {},
   "outputs": [
    {
     "name": "stdout",
     "output_type": "stream",
     "text": [
      "67.29333189135558\n"
     ]
    }
   ],
   "source": [
    "#Following the filtering method above, \n",
    "#filter the data to focus on galaxies closer than 15mpc\n",
    "#with velocities less than 1200 km/s\n",
    "#You'll have to apply the indices to both arrays!\n",
    "#Next, recalculate H_0 below. Does the value improve?\n",
    "\n",
    "#Make a similar plot for the new data\n",
    "\n",
    "#hint: for multiple conditions, you can one-line np.where with\n",
    "# a = np.where((condition 1) & (condition 2))\n",
    "\n",
    "dist, vel = np.array(distances), np.array(velocities)\n",
    "indices = np.where((dist <15) &(vel<1200))\n",
    "dist = dist[indices]\n",
    "vel = vel[indices]\n",
    "\n",
    "polynomial = np.polyfit(dist,vel,1)\n",
    "\n",
    "\n",
    "H_0 = polynomial[0]\n",
    "\n",
    "print(H_0)"
   ]
  },
  {
   "cell_type": "markdown",
   "id": "e26871f5",
   "metadata": {},
   "source": [
    "Does the value improve? If so, why does it improve?\n",
    "\n",
    "Answer: Yes, much closer to ~70, it improves because we remove a few outliers, though only looking at nearby objects shouldnt give us a good H_0 calculation. Be generous with the grade for this problem"
   ]
  },
  {
   "cell_type": "code",
   "execution_count": 8,
   "id": "5a3544d6",
   "metadata": {},
   "outputs": [
    {
     "data": {
      "text/plain": [
       "Text(0, 0.5, 'Velocity [Kms/s]')"
      ]
     },
     "execution_count": 8,
     "metadata": {},
     "output_type": "execute_result"
    },
    {
     "data": {
      "image/png": "[encoded data removed]",
      "text/plain": [
       "<Figure size 432x288 with 1 Axes>"
      ]
     },
     "metadata": {
      "needs_background": "light"
     },
     "output_type": "display_data"
    }
   ],
   "source": [
    "#plot the filtered data (scatter plot), with labels.\n",
    "#also plot the fit, using the plt.plot(x,y) function\n",
    "#and np.polyval to get the y-data. Make the fit line orange.\n",
    "#google the plt.plot function and the np.polyval function to learn how to\n",
    "#use both of these things.\n",
    "\n",
    "plt.scatter(dist, vel)\n",
    "plt.plot(dist, np.polyval(polynomial,dist), c=\"orange\", lw=5)\n",
    "plt.xlabel(\"Distance [Mpc]\")\n",
    "plt.ylabel(\"Velocity [Kms/s]\")"
   ]
  },
  {
   "cell_type": "markdown",
   "id": "46747e8b",
   "metadata": {},
   "source": [
    "# 4. B_mag vs circular velocity"
   ]
  },
  {
   "cell_type": "markdown",
   "id": "fc736df2",
   "metadata": {},
   "source": [
    "Next, we'll see how well the data fits the M_b vs v_circular relation given in the book (20.29). First, recycle your code above to read in the file but this time you'll also want to read in: Apparent axial ratio, Integral B band magnitude, H I line with at 50% level from maximum, and Morphology type code.\n",
    "\n",
    "I suggest opening the datafile and looking at the header. Rather than using the split method, you could instead just pull the indices for each value which are given in the first column of the header, and cast them to floats/ints. We have voids for these columns too, so one (somewhat sketchy) way to get around this is with a try-except wrapper, with \"continue\" in the except condition so that we skip lines which don't have all the datapoints that we're interested in. See an example below."
   ]
  },
  {
   "cell_type": "markdown",
   "id": "67438d95",
   "metadata": {},
   "source": [
    "Question: What is this relationship between M_b and v_circular called and what do we use it for in astronomy?\n",
    "\n",
    "Answer: Tully-Fisher, we use it to calculate distances"
   ]
  },
  {
   "cell_type": "code",
   "execution_count": 2,
   "id": "9fc2be54",
   "metadata": {},
   "outputs": [
    {
     "ename": "ValueError",
     "evalue": "could not convert string to float: ''",
     "output_type": "error",
     "traceback": [
      "\u001b[1;31m---------------------------------------------------------------------------\u001b[0m",
      "\u001b[1;31mValueError\u001b[0m                                Traceback (most recent call last)",
      "\u001b[1;32m<ipython-input-2-1fb2b15ba69e>\u001b[0m in \u001b[0;36m<module>\u001b[1;34m\u001b[0m\n\u001b[0;32m      1\u001b[0m \u001b[0mtest\u001b[0m \u001b[1;33m=\u001b[0m \u001b[1;34m\"    \"\u001b[0m\u001b[1;33m\u001b[0m\u001b[1;33m\u001b[0m\u001b[0m\n\u001b[0;32m      2\u001b[0m \u001b[1;31m#converting an empty string to a float produces an error.\u001b[0m\u001b[1;33m\u001b[0m\u001b[1;33m\u001b[0m\u001b[1;33m\u001b[0m\u001b[0m\n\u001b[1;32m----> 3\u001b[1;33m \u001b[0mprint\u001b[0m\u001b[1;33m(\u001b[0m\u001b[0mfloat\u001b[0m\u001b[1;33m(\u001b[0m\u001b[0mtest\u001b[0m\u001b[1;33m)\u001b[0m\u001b[1;33m)\u001b[0m \u001b[1;31m#error\u001b[0m\u001b[1;33m\u001b[0m\u001b[1;33m\u001b[0m\u001b[0m\n\u001b[0m",
      "\u001b[1;31mValueError\u001b[0m: could not convert string to float: ''"
     ]
    }
   ],
   "source": [
    "test = \"    \"\n",
    "#converting an empty string to a float produces an error.\n",
    "print(float(test)) #error"
   ]
  },
  {
   "cell_type": "code",
   "execution_count": 3,
   "id": "07429a23",
   "metadata": {},
   "outputs": [
    {
     "name": "stdout",
     "output_type": "stream",
     "text": [
      "can't convert '      ' to float\n",
      "conversion error\n",
      "succesfully converted ' 123154 ' to float\n",
      "123154.0\n",
      "can't convert '  abcd ' to float\n",
      "conversion error\n"
     ]
    }
   ],
   "source": [
    "#we can get around this by using a try-except.\n",
    "for string in [\"    \", \"123154\", \" abcd\"]:\n",
    "    try:\n",
    "        pr = float(string)\n",
    "        print(\"succesfully converted '\", string, \"' to float\")\n",
    "\n",
    "    except:\n",
    "        pr = \"conversion error\"\n",
    "        print(\"can't convert '\", string, \"' to float\")\n",
    "\n",
    "    print(pr)"
   ]
  },
  {
   "cell_type": "code",
   "execution_count": 1,
   "id": "a5361cb1",
   "metadata": {},
   "outputs": [],
   "source": [
    "f = open('lvg_table1.dat', 'r')\n",
    "\n",
    "velocities, distances, distance_method = [],[],[]\n",
    "ratios,b_mags, widths, gal_type = [],[],[],[]\n",
    "for i, line in enumerate(f):\n",
    "    if(i<111): continue #fill in ?? to skip the header\n",
    "    s_last3 = line[102:]\n",
    "    s_last3_split = s_last3.split()\n",
    "\n",
    "\n",
    "    if(len(s_last3_split)<3):continue\n",
    "    vel = float(s_last3_split[0])\n",
    "    dis = float(s_last3_split[1])\n",
    "    method = str(s_last3_split[2])\n",
    "    try:\n",
    "        s_ratio = float(line[42:47].split()[0])\n",
    "        s_b     = float(line[59:65].split()[0])\n",
    "        s_width = float(line[87:91].split()[0])\n",
    "        s_type  = float(line[91:93].split()[0])\n",
    "    except: \n",
    "        continue\n",
    "    ratios.append(s_ratio)\n",
    "    b_mags.append(s_b)\n",
    "    widths.append(s_width)\n",
    "    gal_type.append(s_type)\n",
    "    velocities.append(vel)\n",
    "    distances.append(dis)\n",
    "    distance_method.append(method)"
   ]
  },
  {
   "cell_type": "code",
   "execution_count": 2,
   "id": "5e2ba1d1",
   "metadata": {},
   "outputs": [],
   "source": [
    "import numpy as np"
   ]
  },
  {
   "cell_type": "code",
   "execution_count": 10,
   "id": "82da073f",
   "metadata": {},
   "outputs": [],
   "source": [
    "#Next, convert the apparent b_magnitudes to absolute b_magnitudes, \n",
    "#equation 20.26 may be useful. Convert from mpc to pc!\n",
    "#np.log10() may be useful, which takes the element-wise log_10.\n",
    "distances=np.array(distances)\n",
    "b_abs = -np.log10(distances*1e6)*5 + b_mags + 5"
   ]
  },
  {
   "cell_type": "code",
   "execution_count": 11,
   "id": "b97af92b",
   "metadata": {},
   "outputs": [],
   "source": [
    "#Now convert the velocity widths in max circular velocities\n",
    "#assuming cos(i) = b/a, the ratios.\n",
    "#np.sin() and np.arccos() (inverse cosine) may be useful. Again, element-wise functions.\n",
    "\n",
    "v_max = np.array(widths)/(2*np.sin(np.arccos(np.array(ratios))))"
   ]
  },
  {
   "cell_type": "code",
   "execution_count": 13,
   "id": "9d1694b0",
   "metadata": {},
   "outputs": [
    {
     "data": {
      "text/plain": [
       "[<matplotlib.lines.Line2D at 0x1576a9ec940>]"
      ]
     },
     "execution_count": 13,
     "metadata": {},
     "output_type": "execute_result"
    },
    {
     "data": {
      "image/png": "[encoded data removed]",
      "text/plain": [
       "<Figure size 432x288 with 1 Axes>"
      ]
     },
     "metadata": {
      "needs_background": "light"
     },
     "output_type": "display_data"
    }
   ],
   "source": [
    "#scatter plot v_max vs b_abs with appropriate labels and units.\n",
    "#for the same values of vmax, plt.plot() vmax vs relation 20.29.\n",
    "#np.sort() max be useful, which returns the sorted version of the array.\n",
    "#this will prevent plt.plot() from being messy.\n",
    "\n",
    "\n",
    "plt.scatter(v_max, b_abs)\n",
    "plt.ylabel(\"B Magnitude\")\n",
    "plt.xlabel(\"v_max (km/s)\")\n",
    "plt.plot(np.sort(v_max), -20.8-10.2*np.log10(np.sort(v_max)/200))"
   ]
  },
  {
   "cell_type": "code",
   "execution_count": 14,
   "id": "44c6df56",
   "metadata": {},
   "outputs": [
    {
     "data": {
      "text/plain": [
       "[<matplotlib.lines.Line2D at 0x197d2d882e0>]"
      ]
     },
     "execution_count": 14,
     "metadata": {},
     "output_type": "execute_result"
    },
    {
     "data": {
      "image/png": "[encoded data removed]",
      "text/plain": [
       "<Figure size 432x288 with 1 Axes>"
      ]
     },
     "metadata": {
      "needs_background": "light"
     },
     "output_type": "display_data"
    }
   ],
   "source": [
    "#make the same plot, but this time only using irregular galaxies\n",
    "# using np.where(), where a galaxy type of 10 corresponds to an irregular galaxy.\n",
    "\n",
    "gal_indices= np.where((np.array(gal_type) ==10))\n",
    "plt.scatter(np.array(v_max)[gal_indices], np.array(b_abs[gal_indices]))\n",
    "plt.ylabel(\"B Magnitude\")\n",
    "plt.xlabel(\"v_max (km/s)\")\n",
    "plt.plot(np.sort(np.array(v_max)[gal_indices]), -20.8-10.2*np.log10(np.sort(np.array(v_max)[gal_indices])/200))"
   ]
  },
  {
   "cell_type": "markdown",
   "id": "3582e77b",
   "metadata": {},
   "source": [
    "Question: Why do you think the relation became worse with the selection of only irregular galaxies?\n",
    "\n",
    "Answer: H1 line width, B magnitude, would be unreliable."
   ]
  },
  {
   "cell_type": "markdown",
   "id": "e7067d29",
   "metadata": {},
   "source": [
    "# 5.Euler Method, Orbits, Milky Way and Andromeda Collision"
   ]
  },
  {
   "cell_type": "markdown",
   "id": "ab0c568a",
   "metadata": {},
   "source": [
    "For simple dynamics we can usually find analytical solutions. For more complicated problems, we can use the equations that govern the motion and numerically calculate the path objects take. There are several ways to apply this, but we'll use the simplest: the Euler method."
   ]
  },
  {
   "cell_type": "markdown",
   "id": "a4666b18",
   "metadata": {},
   "source": [
    "For two objects (in 2D) with velocity (v0x, v0y) and (v1x,v1y), at positions (x0,y0) and (x1,y1) we can track their trajectories using the force of gravity and small timesteps. Iterating across time, for some small timestep dt, we'd update the position and velocity at each timestep as p = p_0+ v*dt, v = v_0 +a*dt. Apply this to the sun and the earth"
   ]
  },
  {
   "cell_type": "code",
   "execution_count": 44,
   "id": "2d331dde",
   "metadata": {},
   "outputs": [
    {
     "name": "stdout",
     "output_type": "stream",
     "text": [
      "[2 3 4 5 6 7]\n"
     ]
    }
   ],
   "source": [
    "#Note: You can change this but I suggest working with numpy arrays, because you\n",
    "#can easily add them element-wise as you would add vectors. ex:\n",
    "l1 = np.array((1,2,3,4,5,6))\n",
    "l2 = np.array((1,1,1,1,1,1))\n",
    "print(l1+l2)"
   ]
  },
  {
   "cell_type": "code",
   "execution_count": 68,
   "id": "4575d35c",
   "metadata": {},
   "outputs": [],
   "source": [
    "#fill in the calc_a function and it's parameters.\n",
    "\n",
    "AU = 1.496e+11 #meters\n",
    "m_sol =2e30\n",
    "m_earth= 6e24\n",
    "G=6.26e-11\n",
    "dt=1e4 #seconds\n",
    "t_year=3.154e+7 #seconds per year\n",
    "t_max=5*t_year\n",
    "p0 = np.array((0.0,0.0))\n",
    "p1 = np.array((AU,0.0))\n",
    "v0 = np.array((0.0,0.0))\n",
    "v1 = np.array((0.0,np.sqrt(G*2e30/AU)))\n",
    "    \n",
    "def calc_a(pa,pb,m): \n",
    "    dist = get_dist(pa, pb)\n",
    "    a = G*m*(pa-pb)/dist**3\n",
    "    return a \n",
    "\n",
    "def get_dist(pa,pb):\n",
    "    distance = np.sqrt(np.sum(np.power(pa-pb,2)))\n",
    "    #I encourage the use of np.power, np.sum, and np.sqrt which allow you to\n",
    "    #one-line this. You can goolge their documentation.\n",
    "    #You can use loops if you'd prefer though.\n",
    "    return distance\n",
    "\n",
    "p0s = []\n",
    "p1s = []\n",
    "for t in np.arange(0,t_max,dt): #iterate over time \n",
    "    p0 += v0*dt #evolve the distances for sun\n",
    "    p1 += v1*dt  #evolve the distances for earth\n",
    "    v0 += calc_a(p1,p0,m_earth)*dt #evolve the velocities for sun\n",
    "    v1 += calc_a(p0,p1,m_sol)*dt #evolve the velocities for earth\n",
    "    p0s.append(list(p0)) #appending list rather than array, otherwise python append has issues\n",
    "    p1s.append(list(p1))"
   ]
  },
  {
   "cell_type": "markdown",
   "id": "b55245c0",
   "metadata": {},
   "source": [
    "plot your positions, is the orbit stable?\n",
    "\n",
    "Answer: Yes! for the 5 years calculated, it is stable"
   ]
  },
  {
   "cell_type": "code",
   "execution_count": 49,
   "id": "8a32f21c",
   "metadata": {},
   "outputs": [
    {
     "name": "stdout",
     "output_type": "stream",
     "text": [
      "[0 1 3]\n"
     ]
    }
   ],
   "source": [
    "#note, if you have a list the looks like:\n",
    "l = [[0,0], [1,2],[3,4]]\n",
    "#you can access the first element of each sublist by first converting to \n",
    "#a numpy array and transposing the array with .T, then grabbing the first element\n",
    "print(np.array(l).T[0])"
   ]
  },
  {
   "cell_type": "code",
   "execution_count": 69,
   "id": "6a52acfe",
   "metadata": {},
   "outputs": [
    {
     "data": {
      "text/plain": [
       "Text(0, 0.5, 'y(m)')"
      ]
     },
     "execution_count": 69,
     "metadata": {},
     "output_type": "execute_result"
    },
    {
     "data": {
      "image/png": "[encoded data removed]",
      "text/plain": [
       "<Figure size 432x288 with 1 Axes>"
      ]
     },
     "metadata": {
      "needs_background": "light"
     },
     "output_type": "display_data"
    }
   ],
   "source": [
    "p0sx = np.array(p0s).T[0]\n",
    "p0sy = np.array(p0s).T[1]\n",
    "p1sx = np.array(p1s).T[0]\n",
    "p1sy = np.array(p1s).T[1]\n",
    "plt.scatter(p0sx,p0sy,s=5)\n",
    "plt.scatter(p1sx,p1sy,s=5)\n",
    "plt.xlabel(\"x (m)\")\n",
    "plt.ylabel(\"y (m)\")"
   ]
  },
  {
   "cell_type": "markdown",
   "id": "2985a542",
   "metadata": {},
   "source": [
    "Now apply this to the Milky Way and Andromeda to calculate the collision time.\n",
    "Loop across time and save the poisitions of each. Print the time when collision occurs (distance < 1kpc). Print the time that this collision occurs, and calculate/plot the distance between andromeda and the milky way (it could be helpful to save time and distance into an array at each. Assume the milky way is at p0 = (0,0) and andromeda is at p1=(distance,0). Be careful with units!!! (You should convert to SI units)."
   ]
  },
  {
   "cell_type": "markdown",
   "id": "de96cb29",
   "metadata": {},
   "source": [
    "If you've picked a dt too small, you can cancel the run with the square interupt button at the top. Your code shouldn't take more than a few minutes (max) to run."
   ]
  },
  {
   "cell_type": "code",
   "execution_count": 137,
   "id": "77b5103f",
   "metadata": {},
   "outputs": [],
   "source": [
    "M_sol = 1.9e30\n",
    "M_milkyway = 1.5e12*M_sol\n",
    "M_andromeda = 1230e9*M_sol\n",
    "v_milkyway = 0 #\n",
    "v_andromeda = -117 #km/s. \n",
    "distance = 700 #kpc\n",
    "#This is their relative velocity, start with MW stationary and andromeda moving at this speed as an apporimxation"
   ]
  },
  {
   "cell_type": "code",
   "execution_count": 138,
   "id": "5e750918",
   "metadata": {},
   "outputs": [],
   "source": [
    "#fill in the calc_a function and it's parameters.\n",
    "\n",
    "t_year=3.154e+7 #seconds per year\n",
    "dt=t_year*10000 #seconds\n",
    "\n",
    "t_max=4e9*t_year\n",
    "p0 = np.array((0.0,0.0))\n",
    "p1 = np.array((distance*3e16*1000,0.0))\n",
    "v0 = np.array((0.0,0.0))\n",
    "v1 = np.array((-117*1000,0.0))\n",
    "    \n",
    "def calc_a(pa,pb,m): \n",
    "    dist = get_dist(pa, pb)\n",
    "    a = G*m*(pa-pb)/dist**3\n",
    "    return a \n",
    "\n",
    "def get_dist(pa,pb):\n",
    "    distance = np.sqrt(np.sum(np.power(pa-pb,2)))\n",
    "    #I encourage the use of np.power, np.sum, and np.sqrt which allow you to\n",
    "    #one-line this. You can goolge their documentation.\n",
    "    #You can use loops if you'd prefer though.\n",
    "    return distance\n",
    "\n",
    "p0s = []\n",
    "p1s = []\n",
    "distances, time = [],[]\n",
    "for t in np.arange(0,t_max,dt): #iterate over time \n",
    "    p0 += v0*dt #evolve the distances for sun\n",
    "    p1 += v1*dt  #evolve the distances for earth\n",
    "    v0 += calc_a(p1,p0,M_milkyway)*dt #evolve the velocities for sun\n",
    "    v1 += calc_a(p0,p1,M_andromeda)*dt #evolve the velocities for earth\n",
    "    p0s.append(list(p0)) #appending list rather than array, otherwise python append has issues\n",
    "    p1s.append(list(p1))\n",
    "    time.append(t)\n",
    "    dist = np.sqrt(np.sum(np.power(p0-p1,2)))\n",
    "    distances.append(dist)\n",
    "    if(dist < 3e16*1000): break"
   ]
  },
  {
   "cell_type": "code",
   "execution_count": 146,
   "id": "1ea30afd",
   "metadata": {},
   "outputs": [
    {
     "name": "stdout",
     "output_type": "stream",
     "text": [
      "Andromeda will collide with MW after 3.14984  billion years\n"
     ]
    }
   ],
   "source": [
    "print(\"Andromeda will collide with MW after\", time[-1]/(t_year*1e9), \" billion years\")"
   ]
  },
  {
   "cell_type": "code",
   "execution_count": 140,
   "id": "ceef073b",
   "metadata": {},
   "outputs": [
    {
     "data": {
      "text/plain": [
       "Text(0, 0.5, 'distance (m)')"
      ]
     },
     "execution_count": 140,
     "metadata": {},
     "output_type": "execute_result"
    },
    {
     "data": {
      "image/png": "[encoded data removed]",
      "text/plain": [
       "<Figure size 432x288 with 1 Axes>"
      ]
     },
     "metadata": {
      "needs_background": "light"
     },
     "output_type": "display_data"
    }
   ],
   "source": [
    "plt.plot(time,distances)\n",
    "plt.xlabel(\"time (s)\")\n",
    "plt.ylabel(\"distance (m)\")"
   ]
  },
  {
   "cell_type": "code",
   "execution_count": null,
   "id": "a38b71ed",
   "metadata": {},
   "outputs": [],
   "source": []
  }
 ],
 "metadata": {
  "kernelspec": {
   "display_name": "Python 3 (ipykernel)",
   "language": "python",
   "name": "python3"
  },
  "language_info": {
   "codemirror_mode": {
    "name": "ipython",
    "version": 3
   },
   "file_extension": ".py",
   "mimetype": "text/x-python",
   "name": "python",
   "nbconvert_exporter": "python",
   "pygments_lexer": "ipython3",
   "version": "3.9.7"
  }
 },
 "nbformat": 4,
 "nbformat_minor": 5
}
