{
 "cells": [
  {
   "cell_type": "markdown",
   "id": "65098d08",
   "metadata": {},
   "source": [
    "# 1. Getting Familiar with notebook cells"
   ]
  },
  {
   "cell_type": "markdown",
   "id": "810a0fee",
   "metadata": {},
   "source": [
    "You can add cells by clicking the + sign at the top. There are 4 different types of cells: Code, Markdown, Raw, and Heading. The above cell is a header cell, this is markdown."
   ]
  },
  {
   "cell_type": "code",
   "execution_count": 1,
   "id": "46408c68",
   "metadata": {},
   "outputs": [
    {
     "name": "stdout",
     "output_type": "stream",
     "text": [
      "This is a code cell\n"
     ]
    }
   ],
   "source": [
    "print(\"This is a code cell\")"
   ]
  },
  {
   "cell_type": "markdown",
   "id": "874f5a63",
   "metadata": {},
   "source": [
    "Create two new cells below. Make one a markdown where you fill in your name. Make the second cell a code cell and practice writing and executing something simple (print hello world?). Executing the cell with \"shift+enter\""
   ]
  },
  {
   "cell_type": "markdown",
   "id": "6458834e",
   "metadata": {},
   "source": [
    "# 2. Loading LVG Data"
   ]
  },
  {
   "cell_type": "markdown",
   "id": "80a8a06d",
   "metadata": {},
   "source": [
    "Local Volume Galaxies (LVG) data is available through https://www.sao.ru/lv/lvgdb/introduction.php.\n",
    " Click on \"tables\", then \"catalog of nearby galaxies\". \n",
    " If the download isn't starting, try allowing pop ups then download the table again.\n",
    " Save the table in the same place as this notebook."
   ]
  },
  {
   "cell_type": "markdown",
   "id": "2baf1e74",
   "metadata": {},
   "source": [
    "Importing a package follows the form:\\\n",
    "import package_name\\\n",
    "if you'd like to rename the package, you can use:\\\n",
    "import package_name as new_name\\\n",
    "\\\n",
    "We'll be using numpy quite a bit. Import numpy below and rename it np"
   ]
  },
  {
   "cell_type": "code",
   "execution_count": null,
   "id": "f9e640b1",
   "metadata": {},
   "outputs": [],
   "source": []
  },
  {
   "cell_type": "markdown",
   "id": "f049b5b0",
   "metadata": {},
   "source": [
    "Loading in the data:"
   ]
  },
  {
   "cell_type": "code",
   "execution_count": 34,
   "id": "e0d19dd4",
   "metadata": {},
   "outputs": [
    {
     "name": "stdout",
     "output_type": "stream",
     "text": [
      "abc def ghi kalsjdsalkj      123 567    velocity_type\n",
      "    123 567    velocity_type\n",
      "['123', '567', 'velocity_type']\n",
      "123.0 567.0 velocity_type\n"
     ]
    }
   ],
   "source": [
    "#for completely filled datasets, there are much cleaner ways of doing this.\n",
    "#Our data has voids, so it's difficult to find something that neatly loads \n",
    "#in the data.\n",
    "\n",
    "#To get around this, we'll read the file line by line as a string and convert\n",
    "# the parts of the string that we want into their proper data types and save \n",
    "# them in lists. \n",
    "\n",
    "#Strings are handled as arrays in python. If we want to access the nth entry in \n",
    "#that string, we use s[n-1]. Every line of data has 118 characters, with the\n",
    "#data we're interested in starting at index 102.\n",
    "\n",
    "#Here is an example of extracting \"data\" from a string\n",
    "s=\"abc def ghi kalsjdsalkj      123 567    velocity_type\"\n",
    "#We're interested in the data after the 25th index, so grab everything from there onward\n",
    "#by using a semicolon after the index. Grabbing everything from the\n",
    "#nth index to the mth index (exclusive) using list[n:m]. Leaving m blank grabs\n",
    "#rest of the array.\n",
    "s_last3 = s[25:]\n",
    "print(s)\n",
    "print(s_last3)\n",
    "#Now split the data by whitespace, convert those to the datatypes we want,\n",
    "#and save them.\n",
    "s_last3_split = s_last3.split()\n",
    "print(s_last3_split)\n",
    "vel = float(s_last3_split[0])\n",
    "dis = float(s_last3_split[1])\n",
    "method = str(s_last3_split[2])\n",
    "print(vel,dis,method)"
   ]
  },
  {
   "cell_type": "code",
   "execution_count": 35,
   "id": "8d23fe2c",
   "metadata": {},
   "outputs": [],
   "source": [
    "#This is an entry from our dataset. Grab the velocity, distance, and distance\n",
    "#method type following the method used above. These correspond to the last three entries\n",
    "#Convert appropriately and print the values.\n",
    "s=\"AGC102728          000021.4+310119   0.20 0.58 0.17  20.40  20.2         17.7*   18.70  21 10    Ir L  566 12.42 TRGB\"\n",
    "\n",
    "s_last3 = ??\n",
    "#more work here\n",
    "print(vel,dis,method)"
   ]
  },
  {
   "cell_type": "code",
   "execution_count": null,
   "id": "0b6f35d1",
   "metadata": {},
   "outputs": [],
   "source": [
    "#Now, apply this to every line in the file, skipping the header. \n",
    "#Add those values to an array.\n",
    "#Not every entry has a velocity measurement. If it doesn't, skip that line\n",
    "#(\"continue\" will move on to the next iteration in the for/enumerate loop).\n",
    "\n",
    "#open the file in read mode (\"r\")\n",
    "f = open('lvg_table1.dat', 'r')\n",
    "\n",
    "#Iterate through the file lines with enumerate which is like a for loop\n",
    "#but it also gives you an index i.\n",
    "\n",
    "velocities, distances, distance_method = [],[],[]\n",
    "for i, line in enumerate(f):\n",
    "    if(i<??): continue #fill in ?? to skip the header\n",
    "    \n",
    "    # More work here. If there isn't a velocity,distance, or distance method then skip the line.\n",
    "    \n",
    "    velocities.append(vel)\n",
    "    distances.append(dis)\n",
    "    distance_method.append(method)"
   ]
  },
  {
   "cell_type": "code",
   "execution_count": 37,
   "id": "dffd61ee",
   "metadata": {},
   "outputs": [],
   "source": [
    "#Let's create a distance vs velocity plot. Import matplotlib and use the .scatter() function. \n",
    "#Fill in the appropriate x and y label w/ units\n",
    "import matplotlib.pyplot as plt"
   ]
  },
  {
   "cell_type": "code",
   "execution_count": 3,
   "id": "b5e7440f",
   "metadata": {},
   "outputs": [],
   "source": [
    "plt.scatter(distances, velocities, s=2)\n",
    "plt.ylabel(\"\")\n",
    "plt.xlabel(\"\")"
   ]
  },
  {
   "cell_type": "markdown",
   "id": "00ae4f6a",
   "metadata": {},
   "source": [
    "# 3. Calculating H_0"
   ]
  },
  {
   "cell_type": "code",
   "execution_count": null,
   "id": "33b38c53",
   "metadata": {},
   "outputs": [],
   "source": [
    "#Next, let's try to calculate H_0 by finding the best linear fit to distance vs velocity. \n",
    "#For this, we can use polyfit which you can read about here: https://numpy.org/doc/stable/reference/generated/numpy.polyfit.html\n",
    "\n",
    "# Find H_0 using polyfit, filling in x,y, and deg. \n",
    "# What value of degree should we choose assuming  velocitiy is proportional to distance?\n",
    "\n",
    "polynomial = np.polyfit(x,y,deg)\n",
    "\n",
    "\n",
    "#Now that you have a fit, extract H_0 from that fit.\n",
    "H_0 = ??\n",
    "\n",
    "print(H_0)"
   ]
  },
  {
   "cell_type": "markdown",
   "id": "d530289f",
   "metadata": {},
   "source": [
    "How well does this agree with the actual value of H_0? Is there something about our data set that might throw this off?\n",
    "\n",
    "Answer: ??"
   ]
  },
  {
   "cell_type": "code",
   "execution_count": 16,
   "id": "985027fa",
   "metadata": {},
   "outputs": [
    {
     "name": "stdout",
     "output_type": "stream",
     "text": [
      "[3 4 5]\n"
     ]
    }
   ],
   "source": [
    "#Let's filter our data.\n",
    "# The np.where() function is useful for returning indicies which meet a certain condition, \n",
    "# but they can only be applied to numpy arrays.\n",
    "\n",
    "#Conversion from a python list to an numpy array follows:\n",
    "python_list = [1,2,3,4,5]\n",
    "numpy_array = np.array(python_list)\n",
    "\n",
    "#Keeping values which are greater than 2.5, we can use np.where as:\n",
    "indices = np.where(numpy_array>2.5)\n",
    "\n",
    "#We then apply the indices to the numpy array to get our filtered array.\n",
    "filtered_numpy_array = numpy_array[indices]\n",
    "print(filtered_numpy_array)"
   ]
  },
  {
   "cell_type": "code",
   "execution_count": 17,
   "id": "a9754f8f",
   "metadata": {},
   "outputs": [],
   "source": [
    "#Following the filtering method above, \n",
    "#filter the data to focus on galaxies closer than 15mpc\n",
    "#with velocities less than 1200 km/s\n",
    "#You'll have to apply the indices to both arrays!\n",
    "#Next, recalculate H_0. Does the value improve?\n",
    "\n",
    "#Hint: for multiple conditions, you can one-line np.where with\n",
    "# a = np.where((condition 1) & (condition 2))."
   ]
  },
  {
   "cell_type": "markdown",
   "id": "7585dbdb",
   "metadata": {},
   "source": [
    "Does the value improve? Why does it improve?\n",
    "\n",
    "Answer: "
   ]
  },
  {
   "cell_type": "code",
   "execution_count": 2,
   "id": "e807771b",
   "metadata": {},
   "outputs": [],
   "source": [
    "#Plot the filtered data (scatter plot), with labels.\n",
    "#also plot the fit, using the plt.plot(x,y) function\n",
    "#and np.polyval to get the y-data from the fit. Make the fit line orange.\n",
    "#Google the plt.plot function and the np.polyval function to learn how to\n",
    "#use both of these things."
   ]
  },
  {
   "cell_type": "markdown",
   "id": "e8ab668a",
   "metadata": {},
   "source": [
    "# 4. B_mag vs circular velocity"
   ]
  },
  {
   "cell_type": "markdown",
   "id": "2b775999",
   "metadata": {},
   "source": [
    "Next, we'll see how well the data fits the M_b vs v_circular relation given in the book (20.29). First, recycle your code above to read the file but this time you'll also want to read in: Apparent axial ratio, Integral B band magnitude, H I line with at 50% level from maximum, and Morphology type code.\n",
    "\n",
    "I suggest opening the file and looking at the header to figure out where these things are stored. Rather than using the split method, you could instead just pull the indices for each value, where indices are given in the first column of the header, and cast them to floats/ints. We have voids for these columns too, so one (somewhat sketchy) way to get around this is with a try-except wrapper, with \"continue\" in the except condition so that we skip lines which don't have all the datapoints that we're interested in. See an example below."
   ]
  },
  {
   "cell_type": "markdown",
   "id": "adb762fc",
   "metadata": {},
   "source": [
    "Question: What is this relationship between M_b and v_circular called and what do we use it for in astronomy?\n",
    "\n",
    "Answer: ??"
   ]
  },
  {
   "cell_type": "code",
   "execution_count": 9,
   "id": "dff73562",
   "metadata": {},
   "outputs": [
    {
     "ename": "ValueError",
     "evalue": "could not convert string to float: ''",
     "output_type": "error",
     "traceback": [
      "\u001b[1;31m---------------------------------------------------------------------------\u001b[0m",
      "\u001b[1;31mValueError\u001b[0m                                Traceback (most recent call last)",
      "\u001b[1;32m<ipython-input-9-ff72719240e2>\u001b[0m in \u001b[0;36m<module>\u001b[1;34m\u001b[0m\n\u001b[0;32m      1\u001b[0m \u001b[0mtest\u001b[0m \u001b[1;33m=\u001b[0m \u001b[1;34m\"    \"\u001b[0m\u001b[1;33m\u001b[0m\u001b[1;33m\u001b[0m\u001b[0m\n\u001b[0;32m      2\u001b[0m \u001b[1;31m#converting an empty string to a float produces an error.\u001b[0m\u001b[1;33m\u001b[0m\u001b[1;33m\u001b[0m\u001b[1;33m\u001b[0m\u001b[0m\n\u001b[1;32m----> 3\u001b[1;33m \u001b[0mprint\u001b[0m\u001b[1;33m(\u001b[0m\u001b[0mfloat\u001b[0m\u001b[1;33m(\u001b[0m\u001b[0mtest\u001b[0m\u001b[1;33m)\u001b[0m\u001b[1;33m)\u001b[0m\u001b[1;33m\u001b[0m\u001b[1;33m\u001b[0m\u001b[0m\n\u001b[0m",
      "\u001b[1;31mValueError\u001b[0m: could not convert string to float: ''"
     ]
    }
   ],
   "source": [
    "test = \"    \"\n",
    "#converting an empty string to a float produces an error.\n",
    "print(float(test)) #error"
   ]
  },
  {
   "cell_type": "code",
   "execution_count": 2,
   "id": "a7701a96",
   "metadata": {},
   "outputs": [
    {
     "name": "stdout",
     "output_type": "stream",
     "text": [
      "can't convert '      ' to float\n",
      "conversion error \n",
      "\n",
      "succesfully converted ' 123154 ' to float\n",
      "123154.0 \n",
      "\n",
      "can't convert '  abcd ' to float\n",
      "conversion error \n",
      "\n"
     ]
    }
   ],
   "source": [
    "#we can get around this by using a try-except.\n",
    "for string in [\"    \", \"123154\", \" abcd\"]:\n",
    "    try:\n",
    "        pr = float(string)\n",
    "        print(\"succesfully converted '\", string, \"' to float\")\n",
    "\n",
    "    except:\n",
    "        pr = \"conversion error\"\n",
    "        print(\"can't convert '\", string, \"' to float\")\n",
    "\n",
    "    print(pr, \"\\n\")"
   ]
  },
  {
   "cell_type": "code",
   "execution_count": null,
   "id": "b782a721",
   "metadata": {},
   "outputs": [],
   "source": [
    "f = open('lvg_table1.dat', 'r')\n",
    "\n",
    "velocities, distances, distance_method = [],[],[]\n",
    "ratios,b_mags, widths, gal_type = [],[],[],[]\n",
    "\n",
    "for i, line in enumerate(f):\n",
    "    if(i<??): continue #fill in ?? to skip the header\n",
    "    \n",
    "    # More work here. If we're missing a piece of data that we're interested in, skip the line\n",
    "    \n",
    "    \n",
    "    \n",
    "    ratios.append(s_ratio)\n",
    "    b_mags.append(s_b)\n",
    "    widths.append(s_width)\n",
    "    gal_type.append(s_type)\n",
    "    velocities.append(vel)\n",
    "    distances.append(dis)\n",
    "    distance_method.append(method)"
   ]
  },
  {
   "cell_type": "code",
   "execution_count": 12,
   "id": "020cdf23",
   "metadata": {},
   "outputs": [],
   "source": [
    "#Next, convert the apparent b_magnitudes to absolute b_magnitudes, \n",
    "#equation 20.26 may be useful. Don't forget to convert from mpc to pc!\n",
    "#np.log10() may be useful, which takes the element-wise log_10.\n",
    "b_abs = ??"
   ]
  },
  {
   "cell_type": "code",
   "execution_count": 4,
   "id": "7bd98cbd",
   "metadata": {},
   "outputs": [],
   "source": [
    "#Now convert the velocity widths into max circular velocities\n",
    "#assuming cos(i) = b/a, where b/a is the \"Apparent axial ratio\" we've pulled from the data.\n",
    "#np.sin() and np.arccos() (inverse cosine) may be useful. Again, these are element-wise functions and\n",
    "#return a numpy array with the same numbers of elements as the input list.\n",
    "\n",
    "v_max = ??"
   ]
  },
  {
   "cell_type": "code",
   "execution_count": null,
   "id": "595855bb",
   "metadata": {},
   "outputs": [],
   "source": [
    "#Make a scatter plot of v_max vs b_abs with appropriate labels and units.\n",
    "#For the same values of vmax, plt.plot() vmax vs relation 20.29.\n",
    "#np.sort(array) max be useful, which returns the sorted version of the array, preventing plt.plot() from being messy.\n",
    "\n",
    "plt.scatter()\n",
    "plt.xlabel()\n",
    "plt.ylabel()\n",
    "plt.plot(np.sort(v_max), f(np.sort(v_max))) #use the correct f"
   ]
  },
  {
   "cell_type": "code",
   "execution_count": 5,
   "id": "bcfea92f",
   "metadata": {},
   "outputs": [],
   "source": [
    "#Make the same plot, but this time only using irregular galaxies\n",
    "# where a galaxy type of 10 corresponds to an irregular galaxy. np.where will be useful.\n",
    "\n",
    "\n"
   ]
  },
  {
   "cell_type": "markdown",
   "id": "bda0f12d",
   "metadata": {},
   "source": [
    "# 5.Euler Method, Orbits, Milky Way and Andromeda Collision"
   ]
  },
  {
   "cell_type": "markdown",
   "id": "7b835be8",
   "metadata": {},
   "source": [
    "For simple dynamics we can usually find analytical solutions. For complicated problems, we can use the equations that govern the motion and numerically calculate the path objects take. There are several ways to do this, but we'll use the simplest: the Euler method."
   ]
  },
  {
   "cell_type": "markdown",
   "id": "0557b4fa",
   "metadata": {},
   "source": [
    "For two objects (in 2D) with velocities (v0x, v0y) and (v1x,v1y), at positions (x0,y0) and (x1,y1), we can track their trajectories using the force of gravity and small timesteps. Iterating across time, for some small timestep dt, we'd update the position and velocity at each timestep as p = p_0+ v*dt, v = v_0 +a*dt. Apply this to the sun and the earth"
   ]
  },
  {
   "cell_type": "code",
   "execution_count": 8,
   "id": "d1674ecc",
   "metadata": {},
   "outputs": [
    {
     "name": "stdout",
     "output_type": "stream",
     "text": [
      "[2 3 4 5 6 7]\n"
     ]
    }
   ],
   "source": [
    "#Note: You can change the set up below but I suggest working with numpy arrays, because you\n",
    "#can easily add them element-wise as you would add vectors. ex:\n",
    "l1 = np.array((1,2,3,4,5,6))\n",
    "l2 = np.array((1,1,1,1,1,1))\n",
    "print(l1+l2)"
   ]
  },
  {
   "cell_type": "code",
   "execution_count": 1,
   "id": "eb845c8a",
   "metadata": {},
   "outputs": [],
   "source": [
    "#fill in the calc_a (acceleration) function and parameters. Keep t_max at 5 years, though you're welcome to change dt.\n",
    "\n",
    "AU = 1.496e+11 #meters\n",
    "m_sol =2e30\n",
    "m_earth= 6e24\n",
    "G=6.26e-11\n",
    "dt=1e4 #seconds\n",
    "t_year=3.154e+7 #seconds per year\n",
    "t_max=5*t_year\n",
    "p0 = np.array((0.0,0.0))\n",
    "p1 = np.array((AU,0.0))\n",
    "v0 = np.array((0.0,0.0))\n",
    "v1 = np.array((0.0,np.sqrt(G*2e30/AU)))\n",
    "    \n",
    "def calc_a(): \n",
    "    dist = get_dist(pa, pb)\n",
    "    a = ??\n",
    "    #hint: if you're using numpy arrays, a should also be a numpy array with\n",
    "    #2 elements.\n",
    "    return a \n",
    "\n",
    "def get_dist(pa,pb):\n",
    "    distance = ??\n",
    "    #I encourage the use of np.power, np.sum, and np.sqrt which allow you to\n",
    "    #one-line this. You can Google their documentation.\n",
    "    #You can use loops if you'd prefer though.\n",
    "    return distance\n",
    "\n",
    "p0s = []\n",
    "p1s = []\n",
    "for t in np.arange(0,t_max,dt): #iterate over time\n",
    "    p0 += ?? #evolve the position for sun\n",
    "    p1 += ?? #evolve the position for earth\n",
    "    v0 += ?? #evolve the velocity for sun\n",
    "    v1 += ?? #evolve the velocity for earth\n",
    "    p0s.append(list(p0)) #appending lists rather than array, otherwise python append has issues.\n",
    "    p1s.append(list(p1))"
   ]
  },
  {
   "cell_type": "markdown",
   "id": "7b5b604c",
   "metadata": {},
   "source": [
    "Plot your positions below. Is the orbit stable?\n",
    "\n",
    "Asnwer:"
   ]
  },
  {
   "cell_type": "code",
   "execution_count": 51,
   "id": "325571e9",
   "metadata": {},
   "outputs": [
    {
     "name": "stdout",
     "output_type": "stream",
     "text": [
      "[0 1 3]\n"
     ]
    }
   ],
   "source": [
    "#note, if you have a list the looks like:\n",
    "l = [[0,0], [1,2],[3,4]]\n",
    "#you can return an array of the first element of each sublist by first converting to \n",
    "#a numpy array and transposing the array with .T, then grabbing the first element.\n",
    "print(np.array(l).T[0])"
   ]
  },
  {
   "cell_type": "code",
   "execution_count": null,
   "id": "63f0f38a",
   "metadata": {},
   "outputs": [],
   "source": [
    "p0sx = ??\n",
    "p0sy = ??\n",
    "p1sx = ??\n",
    "p1sy = ??\n",
    "plt.scatter(p0sx,p0sy,s=5)\n",
    "plt.scatter(p1sx,p1sy,s=5)\n",
    "plt.xlabel(\"\")\n",
    "plt.ylabel(\"\")"
   ]
  },
  {
   "cell_type": "markdown",
   "id": "10c7eecf",
   "metadata": {},
   "source": [
    "If everything is working, you should get a figure like the one below"
   ]
  },
  {
   "cell_type": "code",
   "execution_count": 47,
   "id": "52116098",
   "metadata": {},
   "outputs": [
    {
     "data": {
      "text/plain": [
       "Text(0, 0.5, 'y(m)')"
      ]
     },
     "execution_count": 47,
     "metadata": {},
     "output_type": "execute_result"
    },
    {
     "data": {
      "image/png": "[encoded data removed]",
      "text/plain": [
       "<Figure size 432x288 with 1 Axes>"
      ]
     },
     "metadata": {
      "needs_background": "light"
     },
     "output_type": "display_data"
    }
   ],
   "source": []
  },
  {
   "cell_type": "markdown",
   "id": "c39207f9",
   "metadata": {},
   "source": [
    "Now apply this to the Milky Way and Andromeda to calculate the collision time.\n",
    "Loop across time and save the poisitions of each. Print the time that this collision occurs (distance < 1kpc), then calculate and plot the distance between andromeda and the milky way (it could be helpful to save time and distance by appending them to an array at each iteration. Assume the milky way is at p0 = (0,0) and andromeda is at p1=(distance,0). Be careful with units! (I suggest converting to SI units)."
   ]
  },
  {
   "cell_type": "markdown",
   "id": "44e62989",
   "metadata": {},
   "source": [
    "If you've picked a dt too small, you can cancel the run with the square interupt button at the top. Your code shouldn't take more than a few minutes (max) to run."
   ]
  },
  {
   "cell_type": "code",
   "execution_count": 53,
   "id": "6d87fc5d",
   "metadata": {},
   "outputs": [],
   "source": [
    "#You'll have to change t_max (on the order of 1e9 years) \n",
    "#and pick a more resonable dt. \n",
    "\n",
    "\n",
    "M_sol = 1.9e30\n",
    "M_milkyway = 1.5e12*M_sol\n",
    "M_andromeda = 1230e9*M_sol\n",
    "v_milkyway = 0 #\n",
    "v_andromeda = -117 #km/s. \n",
    "distance = 700 #kpc\n",
    "#This is their relative velocity, start with MW stationary and andromeda moving at this speed as an apporimxation\n",
    "\n",
    "dt=?? \n",
    "t_year=3.154e+7 #seconds per year\n",
    "t_max=??*t_year"
   ]
  },
  {
   "cell_type": "code",
   "execution_count": null,
   "id": "1c563a8b",
   "metadata": {},
   "outputs": [],
   "source": [
    "print(\"Andromeda will collide with MW after\", ??, \" billion years\")"
   ]
  },
  {
   "cell_type": "code",
   "execution_count": null,
   "id": "d8dc1bde",
   "metadata": {},
   "outputs": [],
   "source": [
    "plt.plot(??,??)\n",
    "plt.xlabel(\"\")\n",
    "plt.ylabel(\"\")"
   ]
  },
  {
   "cell_type": "code",
   "execution_count": null,
   "id": "b9159915",
   "metadata": {},
   "outputs": [],
   "source": []
  }
 ],
 "metadata": {
  "kernelspec": {
   "display_name": "Python 3",
   "language": "python",
   "name": "python3"
  },
  "language_info": {
   "codemirror_mode": {
    "name": "ipython",
    "version": 3
   },
   "file_extension": ".py",
   "mimetype": "text/x-python",
   "name": "python",
   "nbconvert_exporter": "python",
   "pygments_lexer": "ipython3",
   "version": "3.8.8"
  }
 },
 "nbformat": 4,
 "nbformat_minor": 5
}
